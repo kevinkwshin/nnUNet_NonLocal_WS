{
 "cells": [
  {
   "cell_type": "markdown",
   "metadata": {},
   "source": [
    "# Install "
   ]
  },
  {
   "cell_type": "code",
   "execution_count": 5,
   "metadata": {},
   "outputs": [
    {
     "name": "stdout",
     "output_type": "stream",
     "text": [
      "Fri Mar 25 04:32:51 2022       \n",
      "+-----------------------------------------------------------------------------+\n",
      "| NVIDIA-SMI 460.73.01    Driver Version: 460.73.01    CUDA Version: 11.2     |\n",
      "|-------------------------------+----------------------+----------------------+\n",
      "| GPU  Name        Persistence-M| Bus-Id        Disp.A | Volatile Uncorr. ECC |\n",
      "| Fan  Temp  Perf  Pwr:Usage/Cap|         Memory-Usage | GPU-Util  Compute M. |\n",
      "|                               |                      |               MIG M. |\n",
      "|===============================+======================+======================|\n",
      "|   0  TITAN RTX           Off  | 00000000:02:00.0 Off |                  N/A |\n",
      "| 37%   49C    P0    51W / 280W |      0MiB / 24220MiB |      0%      Default |\n",
      "|                               |                      |                  N/A |\n",
      "+-------------------------------+----------------------+----------------------+\n",
      "|   1  TITAN RTX           Off  | 00000000:03:00.0 Off |                  N/A |\n",
      "| 86%   88C    P2   230W / 280W |  13175MiB / 24220MiB |     99%      Default |\n",
      "|                               |                      |                  N/A |\n",
      "+-------------------------------+----------------------+----------------------+\n",
      "|   2  TITAN RTX           Off  | 00000000:82:00.0 Off |                  N/A |\n",
      "| 80%   86C    P2   176W / 280W |  21738MiB / 24220MiB |     72%      Default |\n",
      "|                               |                      |                  N/A |\n",
      "+-------------------------------+----------------------+----------------------+\n",
      "|   3  TITAN RTX           Off  | 00000000:83:00.0 Off |                  N/A |\n",
      "| 93%   87C    P2   160W / 280W |  19684MiB / 24220MiB |     89%      Default |\n",
      "|                               |                      |                  N/A |\n",
      "+-------------------------------+----------------------+----------------------+\n",
      "                                                                               \n",
      "+-----------------------------------------------------------------------------+\n",
      "| Processes:                                                                  |\n",
      "|  GPU   GI   CI        PID   Type   Process name                  GPU Memory |\n",
      "|        ID   ID                                                   Usage      |\n",
      "|=============================================================================|\n",
      "+-----------------------------------------------------------------------------+\n"
     ]
    }
   ],
   "source": [
    "'''\n",
    "download nnunet\n",
    "'''\n",
    "!nvidia-smi\n",
    "\n",
    "# !git clone https://github.com/MIC-DKFZ/nnUNet.git\n",
    "# !git clone https://github.com/Sungman-Cho/covid-challenge.git"
   ]
  },
  {
   "cell_type": "code",
   "execution_count": 8,
   "metadata": {},
   "outputs": [
    {
     "name": "stdout",
     "output_type": "stream",
     "text": [
      "\u001b[33mWARNING: You are using pip version 21.3.1; however, version 22.0.4 is available.\n",
      "You should consider upgrading via the '/usr/bin/python3.8 -m pip install --upgrade pip' command.\u001b[0m\n",
      "\u001b[33mWARNING: You are using pip version 21.3.1; however, version 22.0.4 is available.\n",
      "You should consider upgrading via the '/usr/bin/python3.8 -m pip install --upgrade pip' command.\u001b[0m\n"
     ]
    }
   ],
   "source": [
    "# '''\n",
    "# install nnunet\n",
    "# '''\n",
    "\n",
    "!pip install batchgenerators==0.21 medpy --user --quiet\n",
    "!pip install -e . --quiet\n",
    "\n",
    "# !pip install  pillow==7.0.0\n",
    "#Run just 1 time, After run this, please reset your kernel as your workspace is in nnUNet"
   ]
  },
  {
   "cell_type": "code",
   "execution_count": 9,
   "metadata": {},
   "outputs": [],
   "source": [
    "# '''\n",
    "# copy path file\n",
    "# '''\n",
    "!sudo cp paths.py nnunet/paths.py "
   ]
  },
  {
   "cell_type": "markdown",
   "metadata": {},
   "source": [
    "# genenrate pre-processing"
   ]
  },
  {
   "cell_type": "code",
   "execution_count": 13,
   "metadata": {},
   "outputs": [],
   "source": [
    "import glob, natsort\n",
    "\n",
    "############# provide task number ###########\n",
    "num_task = 1\n",
    "path_originalData = \"nnUNet_raw_data_base/nnUNet_raw_data/Task08_Pancreas/\"\n",
    "# path_originalData = \"nnUNet_raw_data_base/Task01_Covid/\"\n",
    "#################################################################\n",
    "\n",
    "\n",
    "train_image = natsort.natsorted(glob.glob(path_originalData+\"imagesTr/*.nii.gz\"))\n",
    "train_label = natsort.natsorted(glob.glob(path_originalData+\"labelsTr/*.nii.gz\"))\n",
    "test_image = natsort.natsorted(glob.glob(path_originalData+\"imagesTs/*.nii.gz\"))\n",
    "test_label = natsort.natsorted(glob.glob(path_originalData+\"labelsTs/*.nii.gz\"))"
   ]
  },
  {
   "cell_type": "code",
   "execution_count": 14,
   "metadata": {},
   "outputs": [
    {
     "data": {
      "text/plain": [
       "(4, 4, 1, 1, 'volume-covid19-A-0003_ct.nii.gz')"
      ]
     },
     "execution_count": 14,
     "metadata": {},
     "output_type": "execute_result"
    }
   ],
   "source": [
    "train_image = [\n",
    "             \"{}\".format(patient_no.split('/')[-1]) for patient_no in train_image\n",
    "]\n",
    "\n",
    "train_label = [\n",
    "             \"{}\".format(patient_no.split('/')[-1]) for patient_no in train_label\n",
    "]\n",
    "\n",
    "test_image = [\n",
    "             \"{}\".format(patient_no.split('/')[-1]) for patient_no in test_image\n",
    "]\n",
    "\n",
    "len(train_image),len(train_label),len(test_image),len(test_label), train_image[0]"
   ]
  },
  {
   "cell_type": "code",
   "execution_count": null,
   "metadata": {},
   "outputs": [],
   "source": [
    "import os\n",
    "import json\n",
    "from collections import OrderedDict\n",
    "\n",
    "json_dict = OrderedDict()\n",
    "json_dict['name'] = \"Cardiac\"\n",
    "json_dict['description'] = \"Combined (CT-MR) Healthy Abdominal Organ Segmentation\"\n",
    "json_dict['tensorImageSize'] = \"3D\"\n",
    "json_dict['reference'] = \"see challenge website\"\n",
    "json_dict['licence'] = \"see challenge website\"\n",
    "json_dict['release'] = \"0.0\"\n",
    "json_dict['modality'] = {\n",
    "    \"0\": \"CT\"\n",
    "}\n",
    "\n",
    "#ch 4\n",
    "json_dict['labels'] = {\n",
    "    \"0\": \"Background\",\n",
    "    \"1\": \"Parenchyma\",\n",
    "    \"2\": \"Abnormal\",\n",
    "}\n",
    "\n",
    "json_dict['numTraining'] = len(train_image)\n",
    "json_dict['numTest'] = len(test_image)\n",
    "\n",
    "json_dict['training'] = []\n",
    "for idx in range(len(train_image)):\n",
    "    json_dict['training'].append({'image': \"./imagesTr/%s\" % train_image[idx], \"label\": \"./labelsTr/%s\" % train_label[idx]})\n",
    "\n",
    "json_dict['test'] = [\"./imagesTs/%s\" % i for i in test_image]\n",
    "\n",
    "with open(os.path.join(path_originalData, \"dataset.json\"), 'w') as f:\n",
    "    json.dump(json_dict, f, indent=4, sort_keys=True)"
   ]
  },
  {
   "cell_type": "code",
   "execution_count": null,
   "metadata": {},
   "outputs": [],
   "source": [
    "# !sudo nnUNet_convert_decathlon_task -i {path_originalData}\n",
    "!python nnunet/experiment_planning/nnUNet_convert_decathlon_task.py -i {path_originalData}\n",
    "print('done')"
   ]
  },
  {
   "cell_type": "code",
   "execution_count": null,
   "metadata": {
    "scrolled": true
   },
   "outputs": [],
   "source": [
    "# !nnUNet_plan_and_preprocess -t {num_task} #--verify_dataset_integrity\n",
    "!python nnunet/experiment_planning/nnUNet_plan_and_preprocess.py -t {num_task}\n",
    "print('done')"
   ]
  },
  {
   "cell_type": "markdown",
   "metadata": {},
   "source": [
    "# Change Batch size in plans"
   ]
  },
  {
   "cell_type": "code",
   "execution_count": null,
   "metadata": {},
   "outputs": [],
   "source": [
    "import pickle\n",
    "#############################################################################\n",
    "path_pickle = 'nnUNet_preprocessed/Task008_Pancreas/nnUNetPlansv2.1_plans_3D.pkl'\n",
    "#############################################################################\n",
    "\n",
    "with open(path_pickle, 'rb') as handle:\n",
    "    temp = pickle.load(handle)    \n",
    "    \n",
    "print('Original stage 0 ',temp['plans_per_stage'][0]['batch_size'])\n",
    "print('Original stage 1 ',temp['plans_per_stage'][1]['batch_size'])\n",
    "#############################################################################\n",
    "temp['plans_per_stage'][0]['batch_size'] = 2  # here is the batch size\n",
    "temp['plans_per_stage'][1]['batch_size'] = 8  # here is the batch size\n",
    "#############################################################################\n",
    "print('After stage 0 ',temp['plans_per_stage'][0]['batch_size'])\n",
    "print('After stage 1 ',temp['plans_per_stage'][1]['batch_size'])\n",
    "\n",
    "import subprocess\n",
    "subprocess.call(['/usr/bin/sudo', 'chmod', '777', path_pickle])\n",
    "\n",
    "with open(path_pickle, 'wb') as handle:\n",
    "    pickle.dump(temp, handle, protocol=pickle.HIGHEST_PROTOCOL)"
   ]
  },
  {
   "cell_type": "code",
   "execution_count": null,
   "metadata": {},
   "outputs": [],
   "source": [
    "import pickle\n",
    "#############################################################################\n",
    "path_pickle = 'nnUNet_preprocessed/Task002_Tendon_4ch/nnUNetPlansv2.1_plans_3D.pkl'\n",
    "#############################################################################\n",
    "\n",
    "with open(path_pickle, 'rb') as handle:\n",
    "    temp = pickle.load(handle)\n",
    "    \n",
    "    \n",
    "print('Original stage 0 :',temp['plans_per_stage'][0]['batch_size'])\n",
    "# print('Original stage 1 ',temp['plans_per_stage'][1]['batch_size'])\n",
    "#############################################################################\n",
    "temp['plans_per_stage'][0]['batch_size'] = 8  # here is the batch size\n",
    "# temp['plans_per_stage'][1]['batch_size'] = 8  # here is the batch size\n",
    "#############################################################################\n",
    "print('After stage 0 :',temp['plans_per_stage'][0]['batch_size'])\n",
    "# print('After stage 1 ',temp['plans_per_stage'][1]['batch_size'])\n",
    "\n",
    "\n",
    "with open(path_pickle, 'wb') as handle:\n",
    "    pickle.dump(temp, handle, protocol=pickle.HIGHEST_PROTOCOL)"
   ]
  },
  {
   "cell_type": "code",
   "execution_count": null,
   "metadata": {},
   "outputs": [],
   "source": [
    "import pickle\n",
    "#############################################################################\n",
    "path_pickle = 'nnUNet_preprocessed/Task003_Tendon_5ch_new/nnUNetPlansv2.1_plans_3D.pkl'\n",
    "#############################################################################\n",
    "\n",
    "with open(path_pickle, 'rb') as handle:\n",
    "    temp = pickle.load(handle)\n",
    "    \n",
    "    \n",
    "print('Original stage 0 :',temp['plans_per_stage'][0]['batch_size'])\n",
    "# print('Original stage 1 ',temp['plans_per_stage'][1]['batch_size'])\n",
    "#############################################################################\n",
    "temp['plans_per_stage'][0]['batch_size'] = 8  # here is the batch size\n",
    "# temp['plans_per_stage'][1]['batch_size'] = 8  # here is the batch size\n",
    "#############################################################################\n",
    "print('After stage 0 :',temp['plans_per_stage'][0]['batch_size'])\n",
    "# print('After stage 1 ',temp['plans_per_stage'][1]['batch_size'])\n",
    "\n",
    "\n",
    "with open(path_pickle, 'wb') as handle:\n",
    "    pickle.dump(temp, handle, protocol=pickle.HIGHEST_PROTOCOL)"
   ]
  },
  {
   "cell_type": "code",
   "execution_count": null,
   "metadata": {},
   "outputs": [],
   "source": [
    "import pickle\n",
    "#############################################################################\n",
    "path_pickle = 'nnUNet_preprocessed/Task009_Covid/nnUNetPlansv2.1_plans_3D.pkl'\n",
    "#############################################################################\n",
    "\n",
    "with open(path_pickle, 'rb') as handle:\n",
    "    temp = pickle.load(handle)\n",
    "    \n",
    "temp\n",
    "# print('Original stage 0 :',temp['plans_per_stage'][0]['batch_size'])\n",
    "# # print('Original stage 1 ',temp['plans_per_stage'][1]['batch_size'])\n",
    "# #############################################################################\n",
    "# temp['plans_per_stage'][0]['batch_size'] = 8  # here is the batch size\n",
    "# # temp['plans_per_stage'][1]['batch_size'] = 8  # here is the batch size\n",
    "# #############################################################################\n",
    "# print('After stage 0 :',temp['plans_per_stage'][0]['batch_size'])\n",
    "# # print('After stage 1 ',temp['plans_per_stage'][1]['batch_size'])\n",
    "\n",
    "\n",
    "# with open(path_pickle, 'wb') as handle:\n",
    "#     pickle.dump(temp, handle, protocol=pickle.HIGHEST_PROTOCOL)"
   ]
  },
  {
   "cell_type": "code",
   "execution_count": null,
   "metadata": {},
   "outputs": [],
   "source": [
    "import pickle\n",
    "#############################################################################\n",
    "path_pickle = 'OUTPUT_FOLDER/Task009/plans.pkl'\n",
    "#############################################################################\n",
    "\n",
    "with open(path_pickle, 'rb') as handle:\n",
    "    temp = pickle.load(handle)\n",
    "temp"
   ]
  },
  {
   "cell_type": "code",
   "execution_count": null,
   "metadata": {},
   "outputs": [],
   "source": []
  }
 ],
 "metadata": {
  "kernelspec": {
   "display_name": "Python 3 (ipykernel)",
   "language": "python",
   "name": "python3"
  },
  "language_info": {
   "codemirror_mode": {
    "name": "ipython",
    "version": 3
   },
   "file_extension": ".py",
   "mimetype": "text/x-python",
   "name": "python",
   "nbconvert_exporter": "python",
   "pygments_lexer": "ipython3",
   "version": "3.8.12"
  }
 },
 "nbformat": 4,
 "nbformat_minor": 4
}
